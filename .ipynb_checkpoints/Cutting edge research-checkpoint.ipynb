{
 "cells": [
  {
   "cell_type": "markdown",
   "metadata": {},
   "source": [
    "# Quotes formation"
   ]
  },
  {
   "cell_type": "code",
   "execution_count": 57,
   "metadata": {
    "collapsed": true
   },
   "outputs": [],
   "source": [
    "import requests\n",
    "import pandas as pd"
   ]
  },
  {
   "cell_type": "code",
   "execution_count": 24,
   "metadata": {
    "collapsed": false
   },
   "outputs": [],
   "source": [
    "headers = {'Authorization' : 'Token token=\"b09904a4d885299ee386f5cbbf795c56\"'}\n",
    "req = requests.get(\"https://favqs.com/api/quotes/?filter=mountain\", headers = headers)"
   ]
  },
  {
   "cell_type": "code",
   "execution_count": 52,
   "metadata": {
    "collapsed": false
   },
   "outputs": [],
   "source": [
    "result = req.json()"
   ]
  },
  {
   "cell_type": "code",
   "execution_count": 50,
   "metadata": {
    "collapsed": false
   },
   "outputs": [],
   "source": [
    "def get_quotes(tag):\n",
    "    url = \"https://favqs.com/api/quotes/?filter=\" + tag\n",
    "    req = requests.get(url, headers = headers).json()\n",
    "    quotes = pd.DataFrame({'Quote': [], 'Author': []})\n",
    "    for item in req['quotes']:\n",
    "        quotes = quotes.append(pd.DataFrame({'Quote': [item['body']], 'Author': [item['author']]}))\n",
    "    \n",
    "    return quotes.reset_index(drop=True)\n",
    "    \n",
    "    \n",
    "\n",
    "# for item in result['quotes']:\n",
    "#     print (item['body'] + \" - \" + item['author'] + \"\\n\")\n",
    "# print (result['quotes'][1]['body'] + \" - \" + result['quotes'][1]['author'] + \"\\n\")"
   ]
  },
  {
   "cell_type": "code",
   "execution_count": 214,
   "metadata": {
    "collapsed": false
   },
   "outputs": [
    {
     "data": {
      "text/html": [
       "<div>\n",
       "<table border=\"1\" class=\"dataframe\">\n",
       "  <thead>\n",
       "    <tr style=\"text-align: right;\">\n",
       "      <th></th>\n",
       "      <th>Quote</th>\n",
       "    </tr>\n",
       "  </thead>\n",
       "  <tbody>\n",
       "    <tr>\n",
       "      <th>0</th>\n",
       "      <td>It could be fun to sing with Prince or Michael...</td>\n",
       "    </tr>\n",
       "    <tr>\n",
       "      <th>1</th>\n",
       "      <td>I spend up to two hours a day on correspondenc...</td>\n",
       "    </tr>\n",
       "    <tr>\n",
       "      <th>2</th>\n",
       "      <td>I have been overcome by the beauty and richnes...</td>\n",
       "    </tr>\n",
       "    <tr>\n",
       "      <th>3</th>\n",
       "      <td>On Memorial Day, I was out floating on Lake No...</td>\n",
       "    </tr>\n",
       "    <tr>\n",
       "      <th>4</th>\n",
       "      <td>On my job I end up jumping out of planes. Last...</td>\n",
       "    </tr>\n",
       "  </tbody>\n",
       "</table>\n",
       "</div>"
      ],
      "text/plain": [
       "                                               Quote\n",
       "0  It could be fun to sing with Prince or Michael...\n",
       "1  I spend up to two hours a day on correspondenc...\n",
       "2  I have been overcome by the beauty and richnes...\n",
       "3  On Memorial Day, I was out floating on Lake No...\n",
       "4  On my job I end up jumping out of planes. Last..."
      ]
     },
     "execution_count": 214,
     "metadata": {},
     "output_type": "execute_result"
    }
   ],
   "source": [
    "toptag = \"lake\"\n",
    "# toptag = top_tag(image)\n",
    "tagphrase = \"Lake wood water fall nature reflection outdoor landscape scenic mountain wild tree river daylight.\"\n",
    "# tagphrase = all_tags(image)\n",
    "all_quotes = get_quotes(toptag)\n",
    "quotes = pd.DataFrame(all_quotes['Quote'])\n",
    "quotes.head()"
   ]
  },
  {
   "cell_type": "code",
   "execution_count": 218,
   "metadata": {
    "collapsed": false
   },
   "outputs": [
    {
     "data": {
      "text/plain": [
       "'Lake wood water fall nature reflection outdoor landscape scenic mountain wild tree river daylight.'"
      ]
     },
     "execution_count": 218,
     "metadata": {},
     "output_type": "execute_result"
    }
   ],
   "source": [
    "phrases = quotes.append(pd.DataFrame({'Quote' : [tagphrase]})).reset_index(drop=True)\n",
    "phrases.Quote[len(phrases.Quote)-1]"
   ]
  },
  {
   "cell_type": "code",
   "execution_count": 216,
   "metadata": {
    "collapsed": false
   },
   "outputs": [
    {
     "data": {
      "text/plain": [
       "25"
      ]
     },
     "execution_count": 216,
     "metadata": {},
     "output_type": "execute_result"
    }
   ],
   "source": [
    "# remove this\n",
    "session_quotes['Quote'][session_quotes['Quote'] == \"Lake wood water fall nature reflection outdoor landscape scenic mountain wild tree river daylight.\"].index[0]"
   ]
  },
  {
   "cell_type": "code",
   "execution_count": 224,
   "metadata": {
    "collapsed": false
   },
   "outputs": [
    {
     "data": {
      "text/plain": [
       "pandas.core.frame.DataFrame"
      ]
     },
     "execution_count": 224,
     "metadata": {},
     "output_type": "execute_result"
    }
   ],
   "source": [
    "# Remove this too\n",
    "type(phrases)\n",
    "# phrases.Quote"
   ]
  },
  {
   "cell_type": "markdown",
   "metadata": {},
   "source": [
    "# Recommender Engine"
   ]
  },
  {
   "cell_type": "code",
   "execution_count": 58,
   "metadata": {
    "collapsed": true
   },
   "outputs": [],
   "source": [
    "from sklearn.feature_extraction.text import TfidfVectorizer, CountVectorizer\n",
    "from sklearn.metrics.pairwise import linear_kernel"
   ]
  },
  {
   "cell_type": "code",
   "execution_count": 225,
   "metadata": {
    "collapsed": false
   },
   "outputs": [],
   "source": [
    "def similarity_matrix(dataframe):\n",
    "    tfidf = TfidfVectorizer(analyzer = 'word', ngram_range = (1,3), min_df = 0, stop_words = 'english')\n",
    "    tfidf_matrix = tfidf.fit_transform(dataframe)\n",
    "    cosine_similarities = linear_kernel(tfidf_matrix, tfidf_matrix)\n",
    "    return pd.DataFrame(cosine_similarities)"
   ]
  },
  {
   "cell_type": "code",
   "execution_count": 226,
   "metadata": {
    "collapsed": false
   },
   "outputs": [],
   "source": [
    "matrix = similarity_matrix(phrases['Quote'])"
   ]
  },
  {
   "cell_type": "code",
   "execution_count": 239,
   "metadata": {
    "collapsed": false
   },
   "outputs": [],
   "source": [
    "# def get_index(tags):\n",
    "#     return session_quotes['Quote'][session_quotes['Quote'] == tags].index[0]\n",
    "\n",
    "def best_similarities(dataframe):\n",
    "    return dataframe[len(dataframe)-1].sort_values(ascending=False)[1:5].reset_index()\n",
    "#     return tagtext.sort()[index].copy().sort_values(ascending=False)[1:5].reset_index()"
   ]
  },
  {
   "cell_type": "code",
   "execution_count": 240,
   "metadata": {
    "collapsed": false
   },
   "outputs": [
    {
     "data": {
      "text/html": [
       "<div>\n",
       "<table border=\"1\" class=\"dataframe\">\n",
       "  <thead>\n",
       "    <tr style=\"text-align: right;\">\n",
       "      <th></th>\n",
       "      <th>index</th>\n",
       "      <th>25</th>\n",
       "    </tr>\n",
       "  </thead>\n",
       "  <tbody>\n",
       "    <tr>\n",
       "      <th>0</th>\n",
       "      <td>15</td>\n",
       "      <td>0.050632</td>\n",
       "    </tr>\n",
       "    <tr>\n",
       "      <th>1</th>\n",
       "      <td>11</td>\n",
       "      <td>0.026770</td>\n",
       "    </tr>\n",
       "    <tr>\n",
       "      <th>2</th>\n",
       "      <td>12</td>\n",
       "      <td>0.021943</td>\n",
       "    </tr>\n",
       "    <tr>\n",
       "      <th>3</th>\n",
       "      <td>16</td>\n",
       "      <td>0.012040</td>\n",
       "    </tr>\n",
       "  </tbody>\n",
       "</table>\n",
       "</div>"
      ],
      "text/plain": [
       "   index        25\n",
       "0     15  0.050632\n",
       "1     11  0.026770\n",
       "2     12  0.021943\n",
       "3     16  0.012040"
      ]
     },
     "execution_count": 240,
     "metadata": {},
     "output_type": "execute_result"
    }
   ],
   "source": [
    "best_similarities(matrix)"
   ]
  },
  {
   "cell_type": "code",
   "execution_count": 241,
   "metadata": {
    "collapsed": false
   },
   "outputs": [],
   "source": [
    "goodindexes = best_similarities(matrix)['index']\n",
    "similarities = best_similarities(matrix)[len(matrix)-1]"
   ]
  },
  {
   "cell_type": "code",
   "execution_count": 245,
   "metadata": {
    "collapsed": false
   },
   "outputs": [
    {
     "data": {
      "text/plain": [
       "0    15\n",
       "1    11\n",
       "2    12\n",
       "3    16\n",
       "Name: index, dtype: int64"
      ]
     },
     "execution_count": 245,
     "metadata": {},
     "output_type": "execute_result"
    }
   ],
   "source": [
    "goodindexes"
   ]
  }
 ],
 "metadata": {
  "kernelspec": {
   "display_name": "Python 2",
   "language": "python",
   "name": "python2"
  },
  "language_info": {
   "codemirror_mode": {
    "name": "ipython",
    "version": 2
   },
   "file_extension": ".py",
   "mimetype": "text/x-python",
   "name": "python",
   "nbconvert_exporter": "python",
   "pygments_lexer": "ipython2",
   "version": "2.7.12"
  }
 },
 "nbformat": 4,
 "nbformat_minor": 0
}
