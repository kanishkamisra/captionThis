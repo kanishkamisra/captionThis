{
 "cells": [
  {
   "cell_type": "code",
   "execution_count": 146,
   "metadata": {
    "collapsed": true
   },
   "outputs": [],
   "source": [
    "import requests\n",
    "import pandas as pd\n",
    "from clarifai import rest\n",
    "from clarifai.rest import ClarifaiApp, Image as ClImage\n",
    "import time\n",
    "import os"
   ]
  },
  {
   "cell_type": "code",
   "execution_count": 150,
   "metadata": {
    "collapsed": false
   },
   "outputs": [],
   "source": [
    "def clarifaize(img):\n",
    "    app = ClarifaiApp(\"mrKZLVJBD6mWwmzTg_84YsbDlZRj1yQPIlBlfQZd\", \"vuuKXEtODxS8RHNo-a0wfF4vMJr4pVojR-mEScL3\")\n",
    "    # get the general model\n",
    "    model = app.models.get(\"general-v1.3\")\n",
    "    # predict with the model\n",
    "#     prediction = model.predict_by_url(url=img)['outputs'][0]['data']['concepts']\n",
    "#     prediction = model.predict_by_filename(img)['outputs'][0]['data']['concepts']\n",
    "    test_image = ClImage(file_obj=open(img, 'rb'))\n",
    "    prediction = model.predict([test_image])['outputs'][0]['data']['concepts']\n",
    "    tags = pd.DataFrame({'Tag': [], 'Probability': []})\n",
    "    for item in prediction:\n",
    "        tags = tags.append(pd.DataFrame({'Tag': [item['name']], 'Probability': [item['value']]}))\n",
    "#     return tags.reset_index(drop=True)\n",
    "    tags = list(tags['Tag'])\n",
    "    if('no person' in tags):\n",
    "        tags.remove('no person')\n",
    "    \n",
    "    return tags"
   ]
  },
  {
   "cell_type": "code",
   "execution_count": 134,
   "metadata": {
    "collapsed": false
   },
   "outputs": [],
   "source": [
    "# tagDataset = clarifaize('http://miriadna.com/desctopwalls/images/max/Forest-small-river.jpg')\n",
    "tagDataset = clarifaize('nasa.jpg')"
   ]
  },
  {
   "cell_type": "code",
   "execution_count": 69,
   "metadata": {
    "collapsed": false
   },
   "outputs": [],
   "source": [
    "# tags = tagDataset['Tag']\n",
    "# tagPhrase = \" \".join(tagDataset['Tag'])\n",
    "tags = list(tagDataset['Tag'])\n",
    "if ('no person' in list(tagDataset['Tag'])):\n",
    "    tags.remove('no person')\n",
    "    tagPhrase = \" \".join(tags)\n",
    "    \n"
   ]
  },
  {
   "cell_type": "code",
   "execution_count": 82,
   "metadata": {
    "collapsed": true
   },
   "outputs": [],
   "source": [
    "tagPhrase = \" \".join(tagDataset)"
   ]
  },
  {
   "cell_type": "code",
   "execution_count": 83,
   "metadata": {
    "collapsed": false
   },
   "outputs": [
    {
     "data": {
      "text/plain": [
       "u'astronomy moon ball-shaped space galaxy infinity planet nebula exploration science fantasy astrology surreal plasma cosmos solar system stellar imagery solar orbit'"
      ]
     },
     "execution_count": 83,
     "metadata": {},
     "output_type": "execute_result"
    }
   ],
   "source": [
    "tagPhrase"
   ]
  },
  {
   "cell_type": "code",
   "execution_count": 75,
   "metadata": {
    "collapsed": false
   },
   "outputs": [],
   "source": [
    "urls = []\n",
    "for tag in tags:\n",
    "    urls.append(\"https://favqs.com/api/quotes/?filter=\" + tag)\n",
    "#     print(tag)"
   ]
  },
  {
   "cell_type": "code",
   "execution_count": 76,
   "metadata": {
    "collapsed": false
   },
   "outputs": [
    {
     "data": {
      "text/plain": [
       "[u'https://favqs.com/api/quotes/?filter=astronomy',\n",
       " u'https://favqs.com/api/quotes/?filter=moon',\n",
       " u'https://favqs.com/api/quotes/?filter=ball-shaped',\n",
       " u'https://favqs.com/api/quotes/?filter=space',\n",
       " u'https://favqs.com/api/quotes/?filter=galaxy',\n",
       " u'https://favqs.com/api/quotes/?filter=infinity',\n",
       " u'https://favqs.com/api/quotes/?filter=planet',\n",
       " u'https://favqs.com/api/quotes/?filter=nebula',\n",
       " u'https://favqs.com/api/quotes/?filter=exploration',\n",
       " u'https://favqs.com/api/quotes/?filter=science',\n",
       " u'https://favqs.com/api/quotes/?filter=fantasy',\n",
       " u'https://favqs.com/api/quotes/?filter=astrology',\n",
       " u'https://favqs.com/api/quotes/?filter=surreal',\n",
       " u'https://favqs.com/api/quotes/?filter=plasma',\n",
       " u'https://favqs.com/api/quotes/?filter=cosmos',\n",
       " u'https://favqs.com/api/quotes/?filter=solar system',\n",
       " u'https://favqs.com/api/quotes/?filter=stellar',\n",
       " u'https://favqs.com/api/quotes/?filter=imagery',\n",
       " u'https://favqs.com/api/quotes/?filter=solar',\n",
       " u'https://favqs.com/api/quotes/?filter=orbit']"
      ]
     },
     "execution_count": 76,
     "metadata": {},
     "output_type": "execute_result"
    }
   ],
   "source": [
    "urls"
   ]
  },
  {
   "cell_type": "code",
   "execution_count": 77,
   "metadata": {
    "collapsed": true
   },
   "outputs": [],
   "source": [
    "headers = {'Authorization' : 'Token token=\"b09904a4d885299ee386f5cbbf795c56\"'}\n",
    "req = requests.get(\"https://favqs.com/api/quotes/?filter=mountain\", headers = headers)\n",
    "def get_quotes(urls):\n",
    "    quotes = pd.DataFrame({'Quote': [], 'Author': []})\n",
    "    for url in urls:\n",
    "        req = requests.get(url, headers = headers).json()\n",
    "        time.sleep(0.5)\n",
    "        print \"Processing: \" + url\n",
    "        for item in req['quotes']:\n",
    "            if item['body'] != 'No quotes found':\n",
    "                quotes = quotes.append(pd.DataFrame({'Quote': [item['body']], 'Author': [item['author']]}))\n",
    "    return quotes.reset_index(drop=True)"
   ]
  },
  {
   "cell_type": "code",
   "execution_count": 106,
   "metadata": {
    "collapsed": false
   },
   "outputs": [
    {
     "name": "stdout",
     "output_type": "stream",
     "text": [
      "Processing: https://favqs.com/api/quotes/?filter=astronomy\n",
      "Processing: https://favqs.com/api/quotes/?filter=moon\n",
      "Processing: https://favqs.com/api/quotes/?filter=ball-shaped\n",
      "Processing: https://favqs.com/api/quotes/?filter=space\n",
      "Processing: https://favqs.com/api/quotes/?filter=galaxy\n",
      "Processing: https://favqs.com/api/quotes/?filter=infinity\n",
      "Processing: https://favqs.com/api/quotes/?filter=planet\n",
      "Processing: https://favqs.com/api/quotes/?filter=nebula\n",
      "Processing: https://favqs.com/api/quotes/?filter=exploration\n",
      "Processing: https://favqs.com/api/quotes/?filter=science\n",
      "Processing: https://favqs.com/api/quotes/?filter=fantasy\n",
      "Processing: https://favqs.com/api/quotes/?filter=astrology\n",
      "Processing: https://favqs.com/api/quotes/?filter=surreal\n",
      "Processing: https://favqs.com/api/quotes/?filter=plasma\n",
      "Processing: https://favqs.com/api/quotes/?filter=cosmos\n",
      "Processing: https://favqs.com/api/quotes/?filter=solar system\n",
      "Processing: https://favqs.com/api/quotes/?filter=stellar\n",
      "Processing: https://favqs.com/api/quotes/?filter=imagery\n",
      "Processing: https://favqs.com/api/quotes/?filter=solar\n",
      "Processing: https://favqs.com/api/quotes/?filter=orbit\n",
      "Processing: https://favqs.com/api/quotes/?filter=astronomy\n",
      "Processing: https://favqs.com/api/quotes/?filter=moon\n",
      "Processing: https://favqs.com/api/quotes/?filter=ball-shaped\n",
      "Processing: https://favqs.com/api/quotes/?filter=space\n",
      "Processing: https://favqs.com/api/quotes/?filter=galaxy\n",
      "Processing: https://favqs.com/api/quotes/?filter=infinity\n",
      "Processing: https://favqs.com/api/quotes/?filter=planet\n",
      "Processing: https://favqs.com/api/quotes/?filter=nebula\n",
      "Processing: https://favqs.com/api/quotes/?filter=exploration\n",
      "Processing: https://favqs.com/api/quotes/?filter=science\n",
      "Processing: https://favqs.com/api/quotes/?filter=fantasy\n",
      "Processing: https://favqs.com/api/quotes/?filter=astrology\n",
      "Processing: https://favqs.com/api/quotes/?filter=surreal\n",
      "Processing: https://favqs.com/api/quotes/?filter=plasma\n",
      "Processing: https://favqs.com/api/quotes/?filter=cosmos\n",
      "Processing: https://favqs.com/api/quotes/?filter=solar system\n",
      "Processing: https://favqs.com/api/quotes/?filter=stellar\n",
      "Processing: https://favqs.com/api/quotes/?filter=imagery\n",
      "Processing: https://favqs.com/api/quotes/?filter=solar\n",
      "Processing: https://favqs.com/api/quotes/?filter=orbit\n"
     ]
    }
   ],
   "source": [
    "quotes = pd.DataFrame({'Quote': get_quotes(urls)['Quote'], 'Author': get_quotes(urls)['Author']})"
   ]
  },
  {
   "cell_type": "code",
   "execution_count": 107,
   "metadata": {
    "collapsed": false
   },
   "outputs": [
    {
     "data": {
      "text/html": [
       "<div>\n",
       "<table border=\"1\" class=\"dataframe\">\n",
       "  <thead>\n",
       "    <tr style=\"text-align: right;\">\n",
       "      <th></th>\n",
       "      <th>Author</th>\n",
       "      <th>Quote</th>\n",
       "    </tr>\n",
       "  </thead>\n",
       "  <tbody>\n",
       "    <tr>\n",
       "      <th>225</th>\n",
       "      <td>Mitt Romney</td>\n",
       "      <td>Even though I love solar and love wind, like m...</td>\n",
       "    </tr>\n",
       "    <tr>\n",
       "      <th>226</th>\n",
       "      <td>Barack Obama</td>\n",
       "      <td>Here at this site, Solyndra expects to make en...</td>\n",
       "    </tr>\n",
       "    <tr>\n",
       "      <th>227</th>\n",
       "      <td>Greg Bear</td>\n",
       "      <td>Of all the planets apart from Earth in our sol...</td>\n",
       "    </tr>\n",
       "    <tr>\n",
       "      <th>228</th>\n",
       "      <td>Joseph Addison</td>\n",
       "      <td>No oppression is so heavy or lasting as that w...</td>\n",
       "    </tr>\n",
       "    <tr>\n",
       "      <th>229</th>\n",
       "      <td>Yahoo Serious</td>\n",
       "      <td>Then if your movie clicks with real audiences,...</td>\n",
       "    </tr>\n",
       "  </tbody>\n",
       "</table>\n",
       "</div>"
      ],
      "text/plain": [
       "             Author                                              Quote\n",
       "225     Mitt Romney  Even though I love solar and love wind, like m...\n",
       "226    Barack Obama  Here at this site, Solyndra expects to make en...\n",
       "227       Greg Bear  Of all the planets apart from Earth in our sol...\n",
       "228  Joseph Addison  No oppression is so heavy or lasting as that w...\n",
       "229   Yahoo Serious  Then if your movie clicks with real audiences,..."
      ]
     },
     "execution_count": 107,
     "metadata": {},
     "output_type": "execute_result"
    }
   ],
   "source": [
    "# type(quotes)\n",
    "quotes.tail()"
   ]
  },
  {
   "cell_type": "code",
   "execution_count": 108,
   "metadata": {
    "collapsed": false
   },
   "outputs": [
    {
     "data": {
      "text/plain": [
       "unicode"
      ]
     },
     "execution_count": 108,
     "metadata": {},
     "output_type": "execute_result"
    }
   ],
   "source": [
    "type(tagPhrase)"
   ]
  },
  {
   "cell_type": "code",
   "execution_count": 109,
   "metadata": {
    "collapsed": false
   },
   "outputs": [],
   "source": [
    "phrases = quotes.append(pd.DataFrame({'Quote' : [tagPhrase], 'Author': ['No One']})).reset_index(drop=True)"
   ]
  },
  {
   "cell_type": "code",
   "execution_count": 110,
   "metadata": {
    "collapsed": false
   },
   "outputs": [
    {
     "data": {
      "text/html": [
       "<div>\n",
       "<table border=\"1\" class=\"dataframe\">\n",
       "  <thead>\n",
       "    <tr style=\"text-align: right;\">\n",
       "      <th></th>\n",
       "      <th>Author</th>\n",
       "      <th>Quote</th>\n",
       "    </tr>\n",
       "  </thead>\n",
       "  <tbody>\n",
       "    <tr>\n",
       "      <th>226</th>\n",
       "      <td>Barack Obama</td>\n",
       "      <td>Here at this site, Solyndra expects to make en...</td>\n",
       "    </tr>\n",
       "    <tr>\n",
       "      <th>227</th>\n",
       "      <td>Greg Bear</td>\n",
       "      <td>Of all the planets apart from Earth in our sol...</td>\n",
       "    </tr>\n",
       "    <tr>\n",
       "      <th>228</th>\n",
       "      <td>Joseph Addison</td>\n",
       "      <td>No oppression is so heavy or lasting as that w...</td>\n",
       "    </tr>\n",
       "    <tr>\n",
       "      <th>229</th>\n",
       "      <td>Yahoo Serious</td>\n",
       "      <td>Then if your movie clicks with real audiences,...</td>\n",
       "    </tr>\n",
       "    <tr>\n",
       "      <th>230</th>\n",
       "      <td>No One</td>\n",
       "      <td>astronomy moon ball-shaped space galaxy infini...</td>\n",
       "    </tr>\n",
       "  </tbody>\n",
       "</table>\n",
       "</div>"
      ],
      "text/plain": [
       "             Author                                              Quote\n",
       "226    Barack Obama  Here at this site, Solyndra expects to make en...\n",
       "227       Greg Bear  Of all the planets apart from Earth in our sol...\n",
       "228  Joseph Addison  No oppression is so heavy or lasting as that w...\n",
       "229   Yahoo Serious  Then if your movie clicks with real audiences,...\n",
       "230          No One  astronomy moon ball-shaped space galaxy infini..."
      ]
     },
     "execution_count": 110,
     "metadata": {},
     "output_type": "execute_result"
    }
   ],
   "source": [
    "phrases.tail()"
   ]
  },
  {
   "cell_type": "code",
   "execution_count": 111,
   "metadata": {
    "collapsed": true
   },
   "outputs": [],
   "source": [
    "from sklearn.feature_extraction.text import TfidfVectorizer, CountVectorizer\n",
    "from sklearn.metrics.pairwise import linear_kernel"
   ]
  },
  {
   "cell_type": "code",
   "execution_count": 112,
   "metadata": {
    "collapsed": true
   },
   "outputs": [],
   "source": [
    "def similarity_matrix(dataframe):\n",
    "    tfidf = TfidfVectorizer(analyzer = 'word', ngram_range = (1,3), min_df = 0, stop_words = 'english')\n",
    "    tfidf_matrix = tfidf.fit_transform(dataframe)\n",
    "    cosine_similarities = linear_kernel(tfidf_matrix, tfidf_matrix)\n",
    "    return pd.DataFrame(cosine_similarities)"
   ]
  },
  {
   "cell_type": "code",
   "execution_count": 113,
   "metadata": {
    "collapsed": true
   },
   "outputs": [],
   "source": [
    "matrix = similarity_matrix(phrases['Quote'])"
   ]
  },
  {
   "cell_type": "code",
   "execution_count": 114,
   "metadata": {
    "collapsed": true
   },
   "outputs": [],
   "source": [
    "def best_similarities(dataframe):\n",
    "    return dataframe[len(dataframe)-1].sort_values(ascending=False)[1:7].reset_index()"
   ]
  },
  {
   "cell_type": "code",
   "execution_count": 115,
   "metadata": {
    "collapsed": false
   },
   "outputs": [
    {
     "data": {
      "text/html": [
       "<div>\n",
       "<table border=\"1\" class=\"dataframe\">\n",
       "  <thead>\n",
       "    <tr style=\"text-align: right;\">\n",
       "      <th></th>\n",
       "      <th>index</th>\n",
       "      <th>230</th>\n",
       "    </tr>\n",
       "  </thead>\n",
       "  <tbody>\n",
       "    <tr>\n",
       "      <th>0</th>\n",
       "      <td>191</td>\n",
       "      <td>0.100308</td>\n",
       "    </tr>\n",
       "    <tr>\n",
       "      <th>1</th>\n",
       "      <td>10</td>\n",
       "      <td>0.041405</td>\n",
       "    </tr>\n",
       "    <tr>\n",
       "      <th>2</th>\n",
       "      <td>172</td>\n",
       "      <td>0.041405</td>\n",
       "    </tr>\n",
       "    <tr>\n",
       "      <th>3</th>\n",
       "      <td>7</td>\n",
       "      <td>0.030362</td>\n",
       "    </tr>\n",
       "    <tr>\n",
       "      <th>4</th>\n",
       "      <td>214</td>\n",
       "      <td>0.030346</td>\n",
       "    </tr>\n",
       "    <tr>\n",
       "      <th>5</th>\n",
       "      <td>6</td>\n",
       "      <td>0.030306</td>\n",
       "    </tr>\n",
       "  </tbody>\n",
       "</table>\n",
       "</div>"
      ],
      "text/plain": [
       "   index       230\n",
       "0    191  0.100308\n",
       "1     10  0.041405\n",
       "2    172  0.041405\n",
       "3      7  0.030362\n",
       "4    214  0.030346\n",
       "5      6  0.030306"
      ]
     },
     "execution_count": 115,
     "metadata": {},
     "output_type": "execute_result"
    }
   ],
   "source": [
    "best_similarities(matrix)"
   ]
  },
  {
   "cell_type": "code",
   "execution_count": 117,
   "metadata": {
    "collapsed": false
   },
   "outputs": [
    {
     "data": {
      "text/plain": [
       "u'The cosmos is all that is, or ever was, or ever will be. - Carl Sagan'"
      ]
     },
     "execution_count": 117,
     "metadata": {},
     "output_type": "execute_result"
    }
   ],
   "source": [
    "phrases['Quote'][191] + ' - ' + phrases['Author'][191]"
   ]
  },
  {
   "cell_type": "code",
   "execution_count": 118,
   "metadata": {
    "collapsed": true
   },
   "outputs": [],
   "source": [
    "def candidate_indexes(dataframe):\n",
    "\treturn dataframe['index']\n",
    "\n",
    "def candidate_captions(dataframe, indexes):\n",
    "\tcaptions = []\n",
    "\tfor index in indexes:\n",
    "\t\tcaptions.append(dataframe[index])\n",
    "\treturn captions"
   ]
  },
  {
   "cell_type": "code",
   "execution_count": 121,
   "metadata": {
    "collapsed": false
   },
   "outputs": [
    {
     "data": {
      "text/plain": [
       "[u'The cosmos is all that is, or ever was, or ever will be. - Carl Sagan',\n",
       " u'Before a war military science seems a real science, like astronomy but after a war it seems more like astrology. - Rebecca West',\n",
       " u'Before a war military science seems a real science, like astronomy but after a war it seems more like astrology. - Rebecca West',\n",
       " u'So fantasy was fine early on, and when I discovered science fiction, I was very happy with it, because my first interest in science fiction came with an interest in astronomy. - Octavia Butler',\n",
       " u\"It's really kind of cool to have solar panels on your roof. - Bill Gates\",\n",
       " u\"I love biomedical science, I love astronomy, and you can't really do much with those in a fantasy setting. - Elizabeth Moon\"]"
      ]
     },
     "execution_count": 121,
     "metadata": {},
     "output_type": "execute_result"
    }
   ],
   "source": [
    "candidate_captions(phrases['Quote'] + ' - ' + phrases['Author'], candidate_indexes(best_similarities(matrix)))"
   ]
  },
  {
   "cell_type": "code",
   "execution_count": 129,
   "metadata": {
    "collapsed": false
   },
   "outputs": [],
   "source": [
    "alltags = []\n",
    "for tag in tags:\n",
    "    alltags.append(\"#\"+tag)"
   ]
  },
  {
   "cell_type": "code",
   "execution_count": 130,
   "metadata": {
    "collapsed": false
   },
   "outputs": [
    {
     "data": {
      "text/plain": [
       "u'#astronomy #moon #ball-shaped #space #galaxy #infinity #planet'"
      ]
     },
     "execution_count": 130,
     "metadata": {},
     "output_type": "execute_result"
    }
   ],
   "source": [
    "\" \".join(alltags)"
   ]
  },
  {
   "cell_type": "code",
   "execution_count": 178,
   "metadata": {
    "collapsed": false
   },
   "outputs": [],
   "source": [
    "def urlize(tags):\n",
    "    # Returns urls as list\n",
    "\n",
    "    urls = []\n",
    "    for tag in tags:\n",
    "        urls.append(\"https://favqs.com/api/quotes/?filter=\" + tag)\n",
    "    \n",
    "    return urls\n",
    "\n",
    "headers = {'Authorization' : 'Token token=\"b09904a4d885299ee386f5cbbf795c56\"'}\n",
    "req = requests.get(\"https://favqs.com/api/quotes/?filter=mountain\", headers = headers)\n",
    "\n",
    "def get_quotes(urls):\n",
    "    quotes = pd.DataFrame({'Quote': [], 'Author': []})\n",
    "    for url in urls:\n",
    "        req = requests.get(url, headers = headers).json()\n",
    "        time.sleep(0.5)\n",
    "        print \"Processing: \" + url\n",
    "        for item in req['quotes']:\n",
    "            if item['body'] != 'No quotes found':\n",
    "                quotes = quotes.append(pd.DataFrame({'Quote': [item['body']], 'Author': [item['author']]}))\n",
    "    return quotes.reset_index(drop=True)\n",
    "\n",
    "def similarity_matrix(dataframe):\n",
    "    tfidf = TfidfVectorizer(analyzer = 'word', ngram_range = (1,3), min_df = 0, stop_words = 'english')\n",
    "    tfidf_matrix = tfidf.fit_transform(dataframe)\n",
    "    cosine_similarities = linear_kernel(tfidf_matrix, tfidf_matrix)\n",
    "    return pd.DataFrame(cosine_similarities)\n",
    "\n",
    "def best_similarities(dataframe):\n",
    "    return dataframe[len(dataframe)-1].sort_values(ascending=False)[1:7].reset_index()\n",
    "\n",
    "def candidate_indexes(dataframe):\n",
    "\treturn dataframe['index']\n",
    "\n",
    "def candidate_captions(dataframe, indexes):\n",
    "\tcaptions = []\n",
    "\tfor index in indexes:\n",
    "\t\tcaptions.append(dataframe[index])\n",
    "\treturn captions\n",
    "\n",
    "def captionize(img):\n",
    "    tags = clarifaize(img)\n",
    "    print \"clarifized\"\n",
    "    tag_phrase = tagPhrase(tags)\n",
    "    print \"phrased\"\n",
    "    urls = urlize(tags)\n",
    "    print \"urllized\"\n",
    "    quotes = quotes = pd.DataFrame({'Quote': get_quotes(urls)['Quote'], 'Author': get_quotes(urls)['Author']})\n",
    "    phrases = quotes.append(pd.DataFrame({'Quote' : [tag_phrase], 'Author': ['No One']})).reset_index(drop=True)\n",
    "    matrix = similarity_matrix(phrases['Quote'])\n",
    "    best = best_similarities(matrix)\n",
    "    captions =candidate_captions(phrases['Quote'] + ' - ' + phrases['Author'], candidate_indexes(best_similarities(matrix)))\n",
    "    print \"Get ready...\\n\"\n",
    "    return list(set(captions))"
   ]
  },
  {
   "cell_type": "code",
   "execution_count": 151,
   "metadata": {
    "collapsed": false
   },
   "outputs": [
    {
     "name": "stdout",
     "output_type": "stream",
     "text": [
      "clarifized\n",
      "phrased\n",
      "urllized\n",
      "Processing: https://favqs.com/api/quotes/?filter=graphic design\n",
      "Processing: https://favqs.com/api/quotes/?filter=funny\n",
      "Processing: https://favqs.com/api/quotes/?filter=fun\n",
      "Processing: https://favqs.com/api/quotes/?filter=cute\n",
      "Processing: https://favqs.com/api/quotes/?filter=sketch\n",
      "Processing: https://favqs.com/api/quotes/?filter=isolated\n",
      "Processing: https://favqs.com/api/quotes/?filter=character\n",
      "Processing: https://favqs.com/api/quotes/?filter=vicious\n",
      "Processing: https://favqs.com/api/quotes/?filter=illustration\n",
      "Processing: https://favqs.com/api/quotes/?filter=Halloween\n",
      "Processing: https://favqs.com/api/quotes/?filter=animal\n",
      "Processing: https://favqs.com/api/quotes/?filter=humor\n",
      "Processing: https://favqs.com/api/quotes/?filter=scared\n",
      "Processing: https://favqs.com/api/quotes/?filter=teeth\n",
      "Processing: https://favqs.com/api/quotes/?filter=alphabet\n",
      "Processing: https://favqs.com/api/quotes/?filter=vector\n",
      "Processing: https://favqs.com/api/quotes/?filter=nature\n",
      "Processing: https://favqs.com/api/quotes/?filter=eye\n",
      "Processing: https://favqs.com/api/quotes/?filter=art\n",
      "Processing: https://favqs.com/api/quotes/?filter=graphic design\n",
      "Processing: https://favqs.com/api/quotes/?filter=funny\n",
      "Processing: https://favqs.com/api/quotes/?filter=fun\n",
      "Processing: https://favqs.com/api/quotes/?filter=cute\n",
      "Processing: https://favqs.com/api/quotes/?filter=sketch\n",
      "Processing: https://favqs.com/api/quotes/?filter=isolated\n",
      "Processing: https://favqs.com/api/quotes/?filter=character\n",
      "Processing: https://favqs.com/api/quotes/?filter=vicious\n",
      "Processing: https://favqs.com/api/quotes/?filter=illustration\n",
      "Processing: https://favqs.com/api/quotes/?filter=Halloween\n",
      "Processing: https://favqs.com/api/quotes/?filter=animal\n",
      "Processing: https://favqs.com/api/quotes/?filter=humor\n",
      "Processing: https://favqs.com/api/quotes/?filter=scared\n",
      "Processing: https://favqs.com/api/quotes/?filter=teeth\n",
      "Processing: https://favqs.com/api/quotes/?filter=alphabet\n",
      "Processing: https://favqs.com/api/quotes/?filter=vector\n",
      "Processing: https://favqs.com/api/quotes/?filter=nature\n",
      "Processing: https://favqs.com/api/quotes/?filter=eye\n",
      "Processing: https://favqs.com/api/quotes/?filter=art\n",
      "Get ready...\n",
      "\n"
     ]
    },
    {
     "data": {
      "text/plain": [
       "[u'Human nature is not of itself vicious. - Thomas Paine',\n",
       " u'Of course, I did lots of what would be called graphic design now, what used to be called commercial art. - Leonard Baskin',\n",
       " u'When you have confidence, you can have a lot of fun. And when you have fun, you can do amazing things. - Joe Namath',\n",
       " u\"I love graphic design. I love working with design, and I love storytelling, so I've been working on a children's book for a while, and I'd like to see that through. - Colleen Haskell\",\n",
       " u'Graphic design is the paradise of individuality, eccentricity, heresy, abnormality, hobbies and humors. - George Santayana',\n",
       " u\"That's something I learned in art school. I studied graphic design in Germany, and my professor emphasized the responsibility that designers and illustrators have towards the people they create things for. - Eric Carle\"]"
      ]
     },
     "execution_count": 151,
     "metadata": {},
     "output_type": "execute_result"
    }
   ],
   "source": [
    "captionize('static/c.png')"
   ]
  },
  {
   "cell_type": "code",
   "execution_count": 160,
   "metadata": {
    "collapsed": false
   },
   "outputs": [],
   "source": [
    "urls = []\n",
    "for tag in tags:\n",
    "    urls.append(\"https://favqs.com/api/quotes/?filter=\" + tag)"
   ]
  },
  {
   "cell_type": "code",
   "execution_count": 171,
   "metadata": {
    "collapsed": false
   },
   "outputs": [],
   "source": [
    "# get_quotes(urls)"
   ]
  },
  {
   "cell_type": "code",
   "execution_count": 172,
   "metadata": {
    "collapsed": false
   },
   "outputs": [],
   "source": [
    "# captionize(\"nasa.jpg\")"
   ]
  },
  {
   "cell_type": "code",
   "execution_count": 173,
   "metadata": {
    "collapsed": true
   },
   "outputs": [],
   "source": [
    "# from captionize import clarifaize"
   ]
  },
  {
   "cell_type": "code",
   "execution_count": 174,
   "metadata": {
    "collapsed": false
   },
   "outputs": [],
   "source": [
    "# clarifaize(\"static/lake.JPG\")\n",
    "# captionize(\"nebula.PNG\")"
   ]
  },
  {
   "cell_type": "code",
   "execution_count": 175,
   "metadata": {
    "collapsed": false
   },
   "outputs": [],
   "source": [
    "# captionize(\"nebula.PNG\")"
   ]
  },
  {
   "cell_type": "code",
   "execution_count": 179,
   "metadata": {
    "collapsed": false
   },
   "outputs": [
    {
     "name": "stdout",
     "output_type": "stream",
     "text": [
      "clarifized\n",
      "phrased\n",
      "urllized\n",
      "Processing: https://favqs.com/api/quotes/?filter=mountain\n",
      "Processing: https://favqs.com/api/quotes/?filter=water\n",
      "Processing: https://favqs.com/api/quotes/?filter=lake\n",
      "Processing: https://favqs.com/api/quotes/?filter=landscape\n",
      "Processing: https://favqs.com/api/quotes/?filter=snow\n",
      "Processing: https://favqs.com/api/quotes/?filter=nature\n",
      "Processing: https://favqs.com/api/quotes/?filter=travel\n",
      "Processing: https://favqs.com/api/quotes/?filter=fjord\n",
      "Processing: https://favqs.com/api/quotes/?filter=sky\n",
      "Processing: https://favqs.com/api/quotes/?filter=outdoors\n",
      "Processing: https://favqs.com/api/quotes/?filter=scenic\n",
      "Processing: https://favqs.com/api/quotes/?filter=reflection\n",
      "Processing: https://favqs.com/api/quotes/?filter=panoramic\n",
      "Processing: https://favqs.com/api/quotes/?filter=frosty\n",
      "Processing: https://favqs.com/api/quotes/?filter=volcano\n",
      "Processing: https://favqs.com/api/quotes/?filter=majestic\n",
      "Processing: https://favqs.com/api/quotes/?filter=cloud\n",
      "Processing: https://favqs.com/api/quotes/?filter=snowcapped\n",
      "Processing: https://favqs.com/api/quotes/?filter=mountain peak\n",
      "Processing: https://favqs.com/api/quotes/?filter=mountain\n",
      "Processing: https://favqs.com/api/quotes/?filter=water\n",
      "Processing: https://favqs.com/api/quotes/?filter=lake\n",
      "Processing: https://favqs.com/api/quotes/?filter=landscape\n",
      "Processing: https://favqs.com/api/quotes/?filter=snow\n",
      "Processing: https://favqs.com/api/quotes/?filter=nature\n",
      "Processing: https://favqs.com/api/quotes/?filter=travel\n",
      "Processing: https://favqs.com/api/quotes/?filter=fjord\n",
      "Processing: https://favqs.com/api/quotes/?filter=sky\n",
      "Processing: https://favqs.com/api/quotes/?filter=outdoors\n",
      "Processing: https://favqs.com/api/quotes/?filter=scenic\n",
      "Processing: https://favqs.com/api/quotes/?filter=reflection\n",
      "Processing: https://favqs.com/api/quotes/?filter=panoramic\n",
      "Processing: https://favqs.com/api/quotes/?filter=frosty\n",
      "Processing: https://favqs.com/api/quotes/?filter=volcano\n",
      "Processing: https://favqs.com/api/quotes/?filter=majestic\n",
      "Processing: https://favqs.com/api/quotes/?filter=cloud\n",
      "Processing: https://favqs.com/api/quotes/?filter=snowcapped\n",
      "Processing: https://favqs.com/api/quotes/?filter=mountain peak\n",
      "Get ready...\n",
      "\n"
     ]
    },
    {
     "data": {
      "text/plain": [
       "[u'What would be ugly in a garden constitutes beauty in a mountain. - Victor Hugo',\n",
       " u'The lake and the mountains have become my landscape, my real world. - Georges Simenon',\n",
       " u'I hate the outdoors. To me the outdoors is where the car is. - Will Durst',\n",
       " u'The dark shadow we seem to see in the distance is not really a mountain ahead, but the shadow of the mountain behind - a shadow from the past thrown forward into our future. It is a dark sludge of historical sectarianism. We can leave it behind us if we wish. - David Trimble',\n",
       " u\"One of the most amazing locations I've ever been is the top of the volcano in Tanzania, Africa. It's an actual volcano where you really have this lava every day. - Jan de Bont\"]"
      ]
     },
     "execution_count": 179,
     "metadata": {},
     "output_type": "execute_result"
    }
   ],
   "source": [
    "captionize(\"lake2.JPG\")"
   ]
  },
  {
   "cell_type": "code",
   "execution_count": 180,
   "metadata": {
    "collapsed": true
   },
   "outputs": [],
   "source": [
    "from captionize import captionize as ca"
   ]
  },
  {
   "cell_type": "code",
   "execution_count": 181,
   "metadata": {
    "collapsed": false
   },
   "outputs": [
    {
     "name": "stdout",
     "output_type": "stream",
     "text": [
      "Processing: https://favqs.com/api/quotes/?filter=mountain\n",
      "Processing: https://favqs.com/api/quotes/?filter=water\n",
      "Processing: https://favqs.com/api/quotes/?filter=lake\n",
      "Processing: https://favqs.com/api/quotes/?filter=landscape\n",
      "Processing: https://favqs.com/api/quotes/?filter=snow\n",
      "Processing: https://favqs.com/api/quotes/?filter=nature\n",
      "Processing: https://favqs.com/api/quotes/?filter=travel\n",
      "Processing: https://favqs.com/api/quotes/?filter=fjord\n",
      "Processing: https://favqs.com/api/quotes/?filter=sky\n",
      "Processing: https://favqs.com/api/quotes/?filter=outdoors\n",
      "Processing: https://favqs.com/api/quotes/?filter=scenic\n",
      "Processing: https://favqs.com/api/quotes/?filter=reflection\n",
      "Processing: https://favqs.com/api/quotes/?filter=panoramic\n",
      "Processing: https://favqs.com/api/quotes/?filter=frosty\n",
      "Processing: https://favqs.com/api/quotes/?filter=volcano\n",
      "Processing: https://favqs.com/api/quotes/?filter=majestic\n",
      "Processing: https://favqs.com/api/quotes/?filter=cloud\n",
      "Processing: https://favqs.com/api/quotes/?filter=snowcapped\n",
      "Processing: https://favqs.com/api/quotes/?filter=mountain peak\n",
      "Processing: https://favqs.com/api/quotes/?filter=mountain\n",
      "Processing: https://favqs.com/api/quotes/?filter=water\n",
      "Processing: https://favqs.com/api/quotes/?filter=lake\n",
      "Processing: https://favqs.com/api/quotes/?filter=landscape\n",
      "Processing: https://favqs.com/api/quotes/?filter=snow\n",
      "Processing: https://favqs.com/api/quotes/?filter=nature\n",
      "Processing: https://favqs.com/api/quotes/?filter=travel\n",
      "Processing: https://favqs.com/api/quotes/?filter=fjord\n",
      "Processing: https://favqs.com/api/quotes/?filter=sky\n",
      "Processing: https://favqs.com/api/quotes/?filter=outdoors\n",
      "Processing: https://favqs.com/api/quotes/?filter=scenic\n",
      "Processing: https://favqs.com/api/quotes/?filter=reflection\n",
      "Processing: https://favqs.com/api/quotes/?filter=panoramic\n",
      "Processing: https://favqs.com/api/quotes/?filter=frosty\n",
      "Processing: https://favqs.com/api/quotes/?filter=volcano\n",
      "Processing: https://favqs.com/api/quotes/?filter=majestic\n",
      "Processing: https://favqs.com/api/quotes/?filter=cloud\n",
      "Processing: https://favqs.com/api/quotes/?filter=snowcapped\n",
      "Processing: https://favqs.com/api/quotes/?filter=mountain peak\n"
     ]
    },
    {
     "data": {
      "text/plain": [
       "[u'I hate the outdoors. To me the outdoors is where the car is. - Will Durst',\n",
       " u\"One of the most amazing locations I've ever been is the top of the volcano in Tanzania, Africa. It's an actual volcano where you really have this lava every day. - Jan de Bont\",\n",
       " u'The lake and the mountains have become my landscape, my real world. - Georges Simenon']"
      ]
     },
     "execution_count": 181,
     "metadata": {},
     "output_type": "execute_result"
    }
   ],
   "source": [
    "ca(\"lake2.JPG\")"
   ]
  },
  {
   "cell_type": "code",
   "execution_count": 184,
   "metadata": {
    "collapsed": true
   },
   "outputs": [],
   "source": [
    "import captionize"
   ]
  },
  {
   "cell_type": "code",
   "execution_count": 186,
   "metadata": {
    "collapsed": false
   },
   "outputs": [],
   "source": [
    "# get_quotes()\n",
    "tags = captionize.clarifaize(\"lake2.JPG\")"
   ]
  },
  {
   "cell_type": "code",
   "execution_count": 187,
   "metadata": {
    "collapsed": false
   },
   "outputs": [
    {
     "data": {
      "text/plain": [
       "u'mountain water lake landscape snow nature travel fjord sky outdoors scenic reflection panoramic frosty volcano majestic cloud snowcapped mountain peak'"
      ]
     },
     "execution_count": 187,
     "metadata": {},
     "output_type": "execute_result"
    }
   ],
   "source": [
    "captionize.tagPhrase(tags)"
   ]
  },
  {
   "cell_type": "code",
   "execution_count": 191,
   "metadata": {
    "collapsed": false
   },
   "outputs": [],
   "source": [
    "urls = urlize(tags)"
   ]
  },
  {
   "cell_type": "code",
   "execution_count": 192,
   "metadata": {
    "collapsed": false
   },
   "outputs": [
    {
     "name": "stdout",
     "output_type": "stream",
     "text": [
      "Processing: https://favqs.com/api/quotes/?filter=mountain\n",
      "Processing: https://favqs.com/api/quotes/?filter=water\n",
      "Processing: https://favqs.com/api/quotes/?filter=lake\n",
      "Processing: https://favqs.com/api/quotes/?filter=landscape\n",
      "Processing: https://favqs.com/api/quotes/?filter=snow\n",
      "Processing: https://favqs.com/api/quotes/?filter=nature\n",
      "Processing: https://favqs.com/api/quotes/?filter=travel\n",
      "Processing: https://favqs.com/api/quotes/?filter=fjord\n",
      "Processing: https://favqs.com/api/quotes/?filter=sky\n",
      "Processing: https://favqs.com/api/quotes/?filter=outdoors\n",
      "Processing: https://favqs.com/api/quotes/?filter=scenic\n",
      "Processing: https://favqs.com/api/quotes/?filter=reflection\n",
      "Processing: https://favqs.com/api/quotes/?filter=panoramic\n",
      "Processing: https://favqs.com/api/quotes/?filter=frosty\n",
      "Processing: https://favqs.com/api/quotes/?filter=volcano\n",
      "Processing: https://favqs.com/api/quotes/?filter=majestic\n",
      "Processing: https://favqs.com/api/quotes/?filter=cloud\n",
      "Processing: https://favqs.com/api/quotes/?filter=snowcapped\n",
      "Processing: https://favqs.com/api/quotes/?filter=mountain peak\n"
     ]
    }
   ],
   "source": [
    "quotes = pd.DataFrame({'Quote': captionize.get_quotes(urls)['Quote']})"
   ]
  },
  {
   "cell_type": "code",
   "execution_count": 194,
   "metadata": {
    "collapsed": false
   },
   "outputs": [],
   "source": [
    "tag_phrase = captionize.tagPhrase(tags)\n",
    "phrases = quotes.append(pd.DataFrame({'Quote' : [tag_phrase]})).reset_index(drop=True)"
   ]
  },
  {
   "cell_type": "code",
   "execution_count": 197,
   "metadata": {
    "collapsed": false
   },
   "outputs": [],
   "source": [
    "matrix = similarity_matrix(phrases['Quote'])"
   ]
  },
  {
   "cell_type": "code",
   "execution_count": 198,
   "metadata": {
    "collapsed": false
   },
   "outputs": [
    {
     "data": {
      "text/html": [
       "<div>\n",
       "<table border=\"1\" class=\"dataframe\">\n",
       "  <thead>\n",
       "    <tr style=\"text-align: right;\">\n",
       "      <th></th>\n",
       "      <th>index</th>\n",
       "      <th>272</th>\n",
       "    </tr>\n",
       "  </thead>\n",
       "  <tbody>\n",
       "    <tr>\n",
       "      <th>0</th>\n",
       "      <td>200</td>\n",
       "      <td>0.047941</td>\n",
       "    </tr>\n",
       "    <tr>\n",
       "      <th>1</th>\n",
       "      <td>237</td>\n",
       "      <td>0.045486</td>\n",
       "    </tr>\n",
       "    <tr>\n",
       "      <th>2</th>\n",
       "      <td>94</td>\n",
       "      <td>0.039089</td>\n",
       "    </tr>\n",
       "    <tr>\n",
       "      <th>3</th>\n",
       "      <td>65</td>\n",
       "      <td>0.039089</td>\n",
       "    </tr>\n",
       "    <tr>\n",
       "      <th>4</th>\n",
       "      <td>4</td>\n",
       "      <td>0.038909</td>\n",
       "    </tr>\n",
       "    <tr>\n",
       "      <th>5</th>\n",
       "      <td>22</td>\n",
       "      <td>0.033458</td>\n",
       "    </tr>\n",
       "  </tbody>\n",
       "</table>\n",
       "</div>"
      ],
      "text/plain": [
       "   index       272\n",
       "0    200  0.047941\n",
       "1    237  0.045486\n",
       "2     94  0.039089\n",
       "3     65  0.039089\n",
       "4      4  0.038909\n",
       "5     22  0.033458"
      ]
     },
     "execution_count": 198,
     "metadata": {},
     "output_type": "execute_result"
    }
   ],
   "source": [
    "best_similarities(matrix)"
   ]
  },
  {
   "cell_type": "code",
   "execution_count": 207,
   "metadata": {
    "collapsed": false
   },
   "outputs": [
    {
     "data": {
      "text/plain": [
       "0      I once asked a hermit in Italy how he could ve...\n",
       "1      Now suddenly there was nothing but a world of ...\n",
       "2      I have a grim outlook on the world, and in par...\n",
       "3      Los Angeles is a very magical place when you t...\n",
       "4      What would be ugly in a garden constitutes bea...\n",
       "5      We live in a state with a wonderful climate an...\n",
       "6      We have mountain of debt that isn't going away...\n",
       "7      We are volcanoes. When we women offer our expe...\n",
       "8      Before computers, telephone lines and televisi...\n",
       "9      Vegetarians are cool. All I eat are vegetarian...\n",
       "10     Never be discouraged. If I were sunk in the lo...\n",
       "11     There is no easy walk to freedom anywhere, and...\n",
       "12     Ocean is more ancient than the mountains, and ...\n",
       "13     I think L.A.'s terrific. You fly an hour and a...\n",
       "14     Every time I have some moment on a seashore, o...\n",
       "15     Patience and diligence, like faith, remove mou...\n",
       "16     Where there is the necessary technical skill t...\n",
       "17     I'm not Candide, nor Dr Pangloss, but we know ...\n",
       "18     Bereavement is the sharpest challenge to our t...\n",
       "19     I know my family and I would always go up to t...\n",
       "20     To live for some future goal is shallow. It's ...\n",
       "21     The atomic bomb made the prospect of future wa...\n",
       "22     The dark shadow we seem to see in the distance...\n",
       "23     To live only for some future goal is shallow. ...\n",
       "24     It's wonderful to climb the liquid mountains o...\n",
       "25     I came to water late. I learned to swim at the...\n",
       "26     Unlike a drop of water which loses its identit...\n",
       "27     Take a course in good water and air and in the...\n",
       "28     The man of genius is he and he alone who finds...\n",
       "29     I have three phobias which, could I mute them,...\n",
       "                             ...                        \n",
       "243    The poor have to labour in the face of the maj...\n",
       "244    To have God speak to the heart is a majestic e...\n",
       "245    It is not difficult for me to have this faith,...\n",
       "246    God writes the Gospel not in the Bible alone, ...\n",
       "247    Now suddenly there was nothing but a world of ...\n",
       "248    Why is Cloud 9 so amazing? What is wrong with ...\n",
       "249    Courtesy is a silver lining around the dark cl...\n",
       "250    Heavy hearts, like heavy clouds in the sky, ar...\n",
       "251    The Internet creates as well as destroys. Soci...\n",
       "252    Through the harsh design of fate, Florida was ...\n",
       "253    I'm a dreamer. I have to dream and reach for t...\n",
       "254    In order to properly understand the big pictur...\n",
       "255    Every cloud has its silver lining but it is so...\n",
       "256          Clouds symbolize the veils that shroud God.\n",
       "257    Lo! The poor Indian, whose untutored mind sees...\n",
       "258    President Obama's reckless defense cuts that a...\n",
       "259    A cloudy day or a little sunshine have as grea...\n",
       "260    Happiness is like a cloud, if you stare at it ...\n",
       "261    Maturity - among other things, the unclouded h...\n",
       "262    Ah, Hope! what would life be, stripped of thy ...\n",
       "263    There is a sort of jealousy which needs very l...\n",
       "264                     Every silver lining has a cloud.\n",
       "265    Be thou the rainbow in the storms of life. The...\n",
       "266    What is life, when wanting love? Night without...\n",
       "267    The result was that, if it happened to clear o...\n",
       "268    Forests, lakes, and rivers, clouds and winds, ...\n",
       "269    The ground we walk on, the plants and creature...\n",
       "270    Here take back the stuff that I am, nature, kn...\n",
       "271    Great men are rarely isolated mountain peaks t...\n",
       "272    mountain water lake landscape snow nature trav...\n",
       "Name: Quote, dtype: object"
      ]
     },
     "execution_count": 207,
     "metadata": {},
     "output_type": "execute_result"
    }
   ],
   "source": [
    "phrases['Quote']"
   ]
  },
  {
   "cell_type": "code",
   "execution_count": 208,
   "metadata": {
    "collapsed": true
   },
   "outputs": [],
   "source": [
    "everything = {}"
   ]
  },
  {
   "cell_type": "code",
   "execution_count": null,
   "metadata": {
    "collapsed": true
   },
   "outputs": [],
   "source": [
    "captions = []\n",
    "        for caption in captionize(UPLOAD_FOLDER + '/' + filename):\n",
    "            captions.append(caption)\n",
    "\n",
    "hashtags = []\n",
    "for hashtag in hashtagger(UPLOAD_FOLDER + '/' + filename):\n",
    "    hashtags.append(hashtag)"
   ]
  }
 ],
 "metadata": {
  "kernelspec": {
   "display_name": "Python 2",
   "language": "python",
   "name": "python2"
  },
  "language_info": {
   "codemirror_mode": {
    "name": "ipython",
    "version": 2
   },
   "file_extension": ".py",
   "mimetype": "text/x-python",
   "name": "python",
   "nbconvert_exporter": "python",
   "pygments_lexer": "ipython2",
   "version": "2.7.12"
  }
 },
 "nbformat": 4,
 "nbformat_minor": 0
}
