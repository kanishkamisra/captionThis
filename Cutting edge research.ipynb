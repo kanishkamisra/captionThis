{
 "cells": [
  {
   "cell_type": "markdown",
   "metadata": {},
   "source": [
    "# Quotes formation"
   ]
  },
  {
   "cell_type": "code",
   "execution_count": 57,
   "metadata": {
    "collapsed": true
   },
   "outputs": [],
   "source": [
    "import requests\n",
    "import pandas as pd"
   ]
  },
  {
   "cell_type": "code",
   "execution_count": 24,
   "metadata": {
    "collapsed": false
   },
   "outputs": [],
   "source": [
    "headers = {'Authorization' : 'Token token=\"b09904a4d885299ee386f5cbbf795c56\"'}\n",
    "req = requests.get(\"https://favqs.com/api/quotes/?filter=mountain\", headers = headers)"
   ]
  },
  {
   "cell_type": "code",
   "execution_count": 52,
   "metadata": {
    "collapsed": false
   },
   "outputs": [],
   "source": [
    "result = req.json()"
   ]
  },
  {
   "cell_type": "code",
   "execution_count": 50,
   "metadata": {
    "collapsed": false
   },
   "outputs": [],
   "source": [
    "def get_quotes(tag):\n",
    "    url = \"https://favqs.com/api/quotes/?filter=\" + tag\n",
    "    req = requests.get(url, headers = headers).json()\n",
    "    quotes = pd.DataFrame({'Quote': [], 'Author': []})\n",
    "    for item in req['quotes']:\n",
    "        quotes = quotes.append(pd.DataFrame({'Quote': [item['body']], 'Author': [item['author']]}))\n",
    "    \n",
    "    return quotes.reset_index(drop=True)\n",
    "    \n",
    "    \n",
    "\n",
    "# for item in result['quotes']:\n",
    "#     print (item['body'] + \" - \" + item['author'] + \"\\n\")\n",
    "# print (result['quotes'][1]['body'] + \" - \" + result['quotes'][1]['author'] + \"\\n\")"
   ]
  },
  {
   "cell_type": "code",
   "execution_count": 395,
   "metadata": {
    "collapsed": false
   },
   "outputs": [
    {
     "data": {
      "text/html": [
       "<div>\n",
       "<table border=\"1\" class=\"dataframe\">\n",
       "  <thead>\n",
       "    <tr style=\"text-align: right;\">\n",
       "      <th></th>\n",
       "      <th>Quote</th>\n",
       "    </tr>\n",
       "  </thead>\n",
       "  <tbody>\n",
       "    <tr>\n",
       "      <th>0</th>\n",
       "      <td>If you want to build a ship, don’t drum up peo...</td>\n",
       "    </tr>\n",
       "    <tr>\n",
       "      <th>1</th>\n",
       "      <td>Age appears to be best in four things old wood...</td>\n",
       "    </tr>\n",
       "    <tr>\n",
       "      <th>2</th>\n",
       "      <td>Chop your own wood and it will warm you twice.</td>\n",
       "    </tr>\n",
       "    <tr>\n",
       "      <th>3</th>\n",
       "      <td>At the age of four with paper hats and wooden ...</td>\n",
       "    </tr>\n",
       "    <tr>\n",
       "      <th>4</th>\n",
       "      <td>Over the years Woodstock got glorified and rom...</td>\n",
       "    </tr>\n",
       "  </tbody>\n",
       "</table>\n",
       "</div>"
      ],
      "text/plain": [
       "                                               Quote\n",
       "0  If you want to build a ship, don’t drum up peo...\n",
       "1  Age appears to be best in four things old wood...\n",
       "2     Chop your own wood and it will warm you twice.\n",
       "3  At the age of four with paper hats and wooden ...\n",
       "4  Over the years Woodstock got glorified and rom..."
      ]
     },
     "execution_count": 395,
     "metadata": {},
     "output_type": "execute_result"
    }
   ],
   "source": [
    "# toptag = \"lake\"\n",
    "toptag = \"wood\"\n",
    "# toptag = top_tag(image)\n",
    "# tagphrase = \"Lake wood water fall nature reflection outdoor landscape scenic mountain wild tree river daylight.\"\n",
    "\n",
    "tagphrase = 'water wood nature tree landscape river leaf park no person summer outdoors travel environment lake tropical scenic fair weather flora rainforest stream'\n",
    "\n",
    "# tagphrase = all_tags(image)\n",
    "all_quotes = get_quotes(toptag)\n",
    "quotes = pd.DataFrame(all_quotes['Quote'])\n",
    "quotes.head()"
   ]
  },
  {
   "cell_type": "code",
   "execution_count": 396,
   "metadata": {
    "collapsed": false
   },
   "outputs": [
    {
     "data": {
      "text/plain": [
       "'water wood nature tree landscape river leaf park no person summer outdoors travel environment lake tropical scenic fair weather flora rainforest stream'"
      ]
     },
     "execution_count": 396,
     "metadata": {},
     "output_type": "execute_result"
    }
   ],
   "source": [
    "phrases = quotes.append(pd.DataFrame({'Quote' : [tagphrase]})).reset_index(drop=True)\n",
    "phrases.Quote[len(phrases.Quote)-1]"
   ]
  },
  {
   "cell_type": "code",
   "execution_count": 397,
   "metadata": {
    "collapsed": false
   },
   "outputs": [
    {
     "data": {
      "text/plain": [
       "25"
      ]
     },
     "execution_count": 397,
     "metadata": {},
     "output_type": "execute_result"
    }
   ],
   "source": [
    "# remove this\n",
    "session_quotes['Quote'][session_quotes['Quote'] == \"Lake wood water fall nature reflection outdoor landscape scenic mountain wild tree river daylight.\"].index[0]"
   ]
  },
  {
   "cell_type": "code",
   "execution_count": 398,
   "metadata": {
    "collapsed": false
   },
   "outputs": [
    {
     "data": {
      "text/plain": [
       "pandas.core.frame.DataFrame"
      ]
     },
     "execution_count": 398,
     "metadata": {},
     "output_type": "execute_result"
    }
   ],
   "source": [
    "# Remove this too\n",
    "type(phrases)\n",
    "# phrases.Quote"
   ]
  },
  {
   "cell_type": "markdown",
   "metadata": {},
   "source": [
    "# Recommender Engine"
   ]
  },
  {
   "cell_type": "code",
   "execution_count": 399,
   "metadata": {
    "collapsed": true
   },
   "outputs": [],
   "source": [
    "from sklearn.feature_extraction.text import TfidfVectorizer, CountVectorizer\n",
    "from sklearn.metrics.pairwise import linear_kernel"
   ]
  },
  {
   "cell_type": "code",
   "execution_count": 400,
   "metadata": {
    "collapsed": false
   },
   "outputs": [],
   "source": [
    "def similarity_matrix(dataframe):\n",
    "    tfidf = TfidfVectorizer(analyzer = 'word', ngram_range = (1,3), min_df = 0, stop_words = 'english')\n",
    "    tfidf_matrix = tfidf.fit_transform(dataframe)\n",
    "    cosine_similarities = linear_kernel(tfidf_matrix, tfidf_matrix)\n",
    "    return pd.DataFrame(cosine_similarities)"
   ]
  },
  {
   "cell_type": "code",
   "execution_count": 401,
   "metadata": {
    "collapsed": false
   },
   "outputs": [],
   "source": [
    "matrix = similarity_matrix(phrases['Quote'])"
   ]
  },
  {
   "cell_type": "code",
   "execution_count": 402,
   "metadata": {
    "collapsed": false
   },
   "outputs": [],
   "source": [
    "# def get_index(tags):\n",
    "#     return session_quotes['Quote'][session_quotes['Quote'] == tags].index[0]\n",
    "\n",
    "def best_similarities(dataframe):\n",
    "    return dataframe[len(dataframe)-1].sort_values(ascending=False)[1:7].reset_index()\n",
    "#     return tagtext.sort()[index].copy().sort_values(ascending=False)[1:5].reset_index()"
   ]
  },
  {
   "cell_type": "code",
   "execution_count": 403,
   "metadata": {
    "collapsed": false
   },
   "outputs": [
    {
     "data": {
      "text/html": [
       "<div>\n",
       "<table border=\"1\" class=\"dataframe\">\n",
       "  <thead>\n",
       "    <tr style=\"text-align: right;\">\n",
       "      <th></th>\n",
       "      <th>index</th>\n",
       "      <th>25</th>\n",
       "    </tr>\n",
       "  </thead>\n",
       "  <tbody>\n",
       "    <tr>\n",
       "      <th>0</th>\n",
       "      <td>2</td>\n",
       "      <td>0.019014</td>\n",
       "    </tr>\n",
       "    <tr>\n",
       "      <th>1</th>\n",
       "      <td>9</td>\n",
       "      <td>0.017973</td>\n",
       "    </tr>\n",
       "    <tr>\n",
       "      <th>2</th>\n",
       "      <td>13</td>\n",
       "      <td>0.009053</td>\n",
       "    </tr>\n",
       "    <tr>\n",
       "      <th>3</th>\n",
       "      <td>0</td>\n",
       "      <td>0.007992</td>\n",
       "    </tr>\n",
       "    <tr>\n",
       "      <th>4</th>\n",
       "      <td>1</td>\n",
       "      <td>0.007394</td>\n",
       "    </tr>\n",
       "    <tr>\n",
       "      <th>5</th>\n",
       "      <td>20</td>\n",
       "      <td>0.000000</td>\n",
       "    </tr>\n",
       "  </tbody>\n",
       "</table>\n",
       "</div>"
      ],
      "text/plain": [
       "   index        25\n",
       "0      2  0.019014\n",
       "1      9  0.017973\n",
       "2     13  0.009053\n",
       "3      0  0.007992\n",
       "4      1  0.007394\n",
       "5     20  0.000000"
      ]
     },
     "execution_count": 403,
     "metadata": {},
     "output_type": "execute_result"
    }
   ],
   "source": [
    "best_similarities(matrix)"
   ]
  },
  {
   "cell_type": "code",
   "execution_count": 404,
   "metadata": {
    "collapsed": false
   },
   "outputs": [],
   "source": [
    "goodindexes = best_similarities(matrix)['index']\n",
    "similarities = best_similarities(matrix)[len(matrix)-1]"
   ]
  },
  {
   "cell_type": "code",
   "execution_count": 405,
   "metadata": {
    "collapsed": false
   },
   "outputs": [
    {
     "data": {
      "text/plain": [
       "u'Chop your own wood and it will warm you twice.'"
      ]
     },
     "execution_count": 405,
     "metadata": {},
     "output_type": "execute_result"
    }
   ],
   "source": [
    "phrases['Quote'][2]"
   ]
  },
  {
   "cell_type": "code",
   "execution_count": 251,
   "metadata": {
    "collapsed": true
   },
   "outputs": [],
   "source": [
    "from clarifai import rest\n",
    "from clarifai.rest import ClarifaiApp"
   ]
  },
  {
   "cell_type": "code",
   "execution_count": 367,
   "metadata": {
    "collapsed": false
   },
   "outputs": [],
   "source": [
    "app = ClarifaiApp(\"mrKZLVJBD6mWwmzTg_84YsbDlZRj1yQPIlBlfQZd\", \"vuuKXEtODxS8RHNo-a0wfF4vMJr4pVojR-mEScL3\")\n",
    "\n",
    "# get the general model\n",
    "model = app.models.get(\"general-v1.3\")\n",
    "\n",
    "# predict with the model\n",
    "prediction = model.predict_by_url(url='http://miriadna.com/desctopwalls/images/max/Forest-small-river.jpg')['outputs'][0]['data']['concepts']\n",
    "tags = pd.DataFrame({'Tag': [], 'Probability': []})\n",
    "for item in prediction:\n",
    "    tags = tags.append(pd.DataFrame({'Tag': [item['name']], 'Probability': [item['value']]}))\n"
   ]
  },
  {
   "cell_type": "code",
   "execution_count": 368,
   "metadata": {
    "collapsed": false
   },
   "outputs": [
    {
     "data": {
      "text/html": [
       "<div>\n",
       "<table border=\"1\" class=\"dataframe\">\n",
       "  <thead>\n",
       "    <tr style=\"text-align: right;\">\n",
       "      <th></th>\n",
       "      <th>Probability</th>\n",
       "      <th>Tag</th>\n",
       "    </tr>\n",
       "  </thead>\n",
       "  <tbody>\n",
       "    <tr>\n",
       "      <th>0</th>\n",
       "      <td>0.995763</td>\n",
       "      <td>water</td>\n",
       "    </tr>\n",
       "    <tr>\n",
       "      <th>1</th>\n",
       "      <td>0.989444</td>\n",
       "      <td>wood</td>\n",
       "    </tr>\n",
       "    <tr>\n",
       "      <th>2</th>\n",
       "      <td>0.988771</td>\n",
       "      <td>nature</td>\n",
       "    </tr>\n",
       "    <tr>\n",
       "      <th>3</th>\n",
       "      <td>0.983736</td>\n",
       "      <td>tree</td>\n",
       "    </tr>\n",
       "    <tr>\n",
       "      <th>4</th>\n",
       "      <td>0.980355</td>\n",
       "      <td>landscape</td>\n",
       "    </tr>\n",
       "  </tbody>\n",
       "</table>\n",
       "</div>"
      ],
      "text/plain": [
       "   Probability        Tag\n",
       "0     0.995763      water\n",
       "1     0.989444       wood\n",
       "2     0.988771     nature\n",
       "3     0.983736       tree\n",
       "4     0.980355  landscape"
      ]
     },
     "execution_count": 368,
     "metadata": {},
     "output_type": "execute_result"
    }
   ],
   "source": [
    "tags.reset_index(drop=True).head()"
   ]
  },
  {
   "cell_type": "code",
   "execution_count": 369,
   "metadata": {
    "collapsed": false
   },
   "outputs": [
    {
     "data": {
      "text/plain": [
       "u'water wood nature tree landscape river leaf park no person summer outdoors travel environment lake tropical scenic fair weather flora rainforest stream'"
      ]
     },
     "execution_count": 369,
     "metadata": {},
     "output_type": "execute_result"
    }
   ],
   "source": [
    "\" \".join(tags.Tag)"
   ]
  },
  {
   "cell_type": "code",
   "execution_count": null,
   "metadata": {
    "collapsed": true
   },
   "outputs": [],
   "source": []
  }
 ],
 "metadata": {
  "kernelspec": {
   "display_name": "Python 2",
   "language": "python",
   "name": "python2"
  },
  "language_info": {
   "codemirror_mode": {
    "name": "ipython",
    "version": 2
   },
   "file_extension": ".py",
   "mimetype": "text/x-python",
   "name": "python",
   "nbconvert_exporter": "python",
   "pygments_lexer": "ipython2",
   "version": "2.7.12"
  }
 },
 "nbformat": 4,
 "nbformat_minor": 0
}
