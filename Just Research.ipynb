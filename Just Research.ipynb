{
 "cells": [
  {
   "cell_type": "code",
   "execution_count": 2,
   "metadata": {
    "collapsed": true
   },
   "outputs": [],
   "source": [
    "import requests\n",
    "import pandas as pd\n",
    "from clarifai import rest\n",
    "from clarifai.rest import ClarifaiApp\n",
    "import os"
   ]
  },
  {
   "cell_type": "code",
   "execution_count": 17,
   "metadata": {
    "collapsed": false
   },
   "outputs": [],
   "source": [
    "def clarifaize(img):\n",
    "    app = ClarifaiApp(\"mrKZLVJBD6mWwmzTg_84YsbDlZRj1yQPIlBlfQZd\", \"vuuKXEtODxS8RHNo-a0wfF4vMJr4pVojR-mEScL3\")\n",
    "    # get the general model\n",
    "    model = app.models.get(\"general-v1.3\")\n",
    "    # predict with the model\n",
    "    prediction = model.predict_by_url(url=img)['outputs'][0]['data']['concepts']\n",
    "    tags = pd.DataFrame({'Tag': [], 'Probability': []})\n",
    "    for item in prediction:\n",
    "        tags = tags.append(pd.DataFrame({'Tag': [item['name']], 'Probability': [item['value']]}))\n",
    "    return tags.reset_index(drop=True)"
   ]
  },
  {
   "cell_type": "code",
   "execution_count": 68,
   "metadata": {
    "collapsed": false
   },
   "outputs": [],
   "source": [
    "tagDataset = clarifaize('http://miriadna.com/desctopwalls/images/max/Forest-small-river.jpg')"
   ]
  },
  {
   "cell_type": "code",
   "execution_count": 88,
   "metadata": {
    "collapsed": false
   },
   "outputs": [],
   "source": [
    "# tags = tagDataset['Tag']\n",
    "# tagPhrase = \" \".join(tagDataset['Tag'])\n",
    "tags = list(tagDataset['Tag'])\n",
    "if ('no person' in list(tagDataset['Tag'])):\n",
    "    tags.remove('no person')\n",
    "    tagPhrase = \" \".join(tags)"
   ]
  },
  {
   "cell_type": "code",
   "execution_count": 93,
   "metadata": {
    "collapsed": false
   },
   "outputs": [
    {
     "data": {
      "text/plain": [
       "[u'water',\n",
       " u'wood',\n",
       " u'nature',\n",
       " u'tree',\n",
       " u'landscape',\n",
       " u'river',\n",
       " u'leaf',\n",
       " u'park',\n",
       " u'summer',\n",
       " u'outdoors',\n",
       " u'travel',\n",
       " u'environment',\n",
       " u'lake',\n",
       " u'tropical',\n",
       " u'scenic',\n",
       " u'fair weather',\n",
       " u'flora',\n",
       " u'rainforest',\n",
       " u'stream']"
      ]
     },
     "execution_count": 93,
     "metadata": {},
     "output_type": "execute_result"
    }
   ],
   "source": [
    "tags"
   ]
  },
  {
   "cell_type": "code",
   "execution_count": 98,
   "metadata": {
    "collapsed": false
   },
   "outputs": [],
   "source": [
    "urls = []\n",
    "for tag in tags:\n",
    "    urls.append(\"https://favqs.com/api/quotes/?filter=\" + tag)\n",
    "#     print(tag)"
   ]
  },
  {
   "cell_type": "code",
   "execution_count": 101,
   "metadata": {
    "collapsed": false
   },
   "outputs": [
    {
     "data": {
      "text/plain": [
       "[u'https://favqs.com/api/quotes/?filter=water',\n",
       " u'https://favqs.com/api/quotes/?filter=wood',\n",
       " u'https://favqs.com/api/quotes/?filter=nature',\n",
       " u'https://favqs.com/api/quotes/?filter=tree',\n",
       " u'https://favqs.com/api/quotes/?filter=landscape',\n",
       " u'https://favqs.com/api/quotes/?filter=river',\n",
       " u'https://favqs.com/api/quotes/?filter=leaf',\n",
       " u'https://favqs.com/api/quotes/?filter=park',\n",
       " u'https://favqs.com/api/quotes/?filter=summer',\n",
       " u'https://favqs.com/api/quotes/?filter=outdoors',\n",
       " u'https://favqs.com/api/quotes/?filter=travel',\n",
       " u'https://favqs.com/api/quotes/?filter=environment',\n",
       " u'https://favqs.com/api/quotes/?filter=lake',\n",
       " u'https://favqs.com/api/quotes/?filter=tropical',\n",
       " u'https://favqs.com/api/quotes/?filter=scenic',\n",
       " u'https://favqs.com/api/quotes/?filter=fair weather',\n",
       " u'https://favqs.com/api/quotes/?filter=flora',\n",
       " u'https://favqs.com/api/quotes/?filter=rainforest',\n",
       " u'https://favqs.com/api/quotes/?filter=stream']"
      ]
     },
     "execution_count": 101,
     "metadata": {},
     "output_type": "execute_result"
    }
   ],
   "source": [
    "urls"
   ]
  },
  {
   "cell_type": "code",
   "execution_count": null,
   "metadata": {
    "collapsed": true
   },
   "outputs": [],
   "source": []
  }
 ],
 "metadata": {
  "kernelspec": {
   "display_name": "Python 2",
   "language": "python",
   "name": "python2"
  },
  "language_info": {
   "codemirror_mode": {
    "name": "ipython",
    "version": 2
   },
   "file_extension": ".py",
   "mimetype": "text/x-python",
   "name": "python",
   "nbconvert_exporter": "python",
   "pygments_lexer": "ipython2",
   "version": "2.7.12"
  }
 },
 "nbformat": 4,
 "nbformat_minor": 0
}
