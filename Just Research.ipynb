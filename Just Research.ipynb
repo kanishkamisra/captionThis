{
 "cells": [
  {
   "cell_type": "code",
   "execution_count": 11,
   "metadata": {
    "collapsed": true
   },
   "outputs": [],
   "source": [
    "import requests\n",
    "import pandas as pd\n",
    "from clarifai import rest\n",
    "from clarifai.rest import ClarifaiApp\n",
    "import time\n",
    "import os"
   ]
  },
  {
   "cell_type": "code",
   "execution_count": 72,
   "metadata": {
    "collapsed": false
   },
   "outputs": [],
   "source": [
    "def clarifaize(img):\n",
    "    app = ClarifaiApp(\"mrKZLVJBD6mWwmzTg_84YsbDlZRj1yQPIlBlfQZd\", \"vuuKXEtODxS8RHNo-a0wfF4vMJr4pVojR-mEScL3\")\n",
    "    # get the general model\n",
    "    model = app.models.get(\"general-v1.3\")\n",
    "    # predict with the model\n",
    "#     prediction = model.predict_by_url(url=img)['outputs'][0]['data']['concepts']\n",
    "    prediction = model.predict_by_filename(img)['outputs'][0]['data']['concepts']\n",
    "    tags = pd.DataFrame({'Tag': [], 'Probability': []})\n",
    "    for item in prediction:\n",
    "        tags = tags.append(pd.DataFrame({'Tag': [item['name']], 'Probability': [item['value']]}))\n",
    "#     return tags.reset_index(drop=True)\n",
    "    tags = list(tagDataset['Tag'])\n",
    "    if('no person' in tags):\n",
    "        tags.remove('no person')\n",
    "    \n",
    "    return tags"
   ]
  },
  {
   "cell_type": "code",
   "execution_count": 73,
   "metadata": {
    "collapsed": false
   },
   "outputs": [],
   "source": [
    "# tagDataset = clarifaize('http://miriadna.com/desctopwalls/images/max/Forest-small-river.jpg')\n",
    "tagDataset = clarifaize('nasa.jpg')"
   ]
  },
  {
   "cell_type": "code",
   "execution_count": 69,
   "metadata": {
    "collapsed": false
   },
   "outputs": [],
   "source": [
    "# tags = tagDataset['Tag']\n",
    "# tagPhrase = \" \".join(tagDataset['Tag'])\n",
    "tags = list(tagDataset['Tag'])\n",
    "if ('no person' in list(tagDataset['Tag'])):\n",
    "    tags.remove('no person')\n",
    "    tagPhrase = \" \".join(tags)\n",
    "    \n"
   ]
  },
  {
   "cell_type": "code",
   "execution_count": 82,
   "metadata": {
    "collapsed": true
   },
   "outputs": [],
   "source": [
    "tagPhrase = \" \".join(tagDataset)"
   ]
  },
  {
   "cell_type": "code",
   "execution_count": 83,
   "metadata": {
    "collapsed": false
   },
   "outputs": [
    {
     "data": {
      "text/plain": [
       "u'astronomy moon ball-shaped space galaxy infinity planet nebula exploration science fantasy astrology surreal plasma cosmos solar system stellar imagery solar orbit'"
      ]
     },
     "execution_count": 83,
     "metadata": {},
     "output_type": "execute_result"
    }
   ],
   "source": [
    "tagPhrase"
   ]
  },
  {
   "cell_type": "code",
   "execution_count": 75,
   "metadata": {
    "collapsed": false
   },
   "outputs": [],
   "source": [
    "urls = []\n",
    "for tag in tags:\n",
    "    urls.append(\"https://favqs.com/api/quotes/?filter=\" + tag)\n",
    "#     print(tag)"
   ]
  },
  {
   "cell_type": "code",
   "execution_count": 76,
   "metadata": {
    "collapsed": false
   },
   "outputs": [
    {
     "data": {
      "text/plain": [
       "[u'https://favqs.com/api/quotes/?filter=astronomy',\n",
       " u'https://favqs.com/api/quotes/?filter=moon',\n",
       " u'https://favqs.com/api/quotes/?filter=ball-shaped',\n",
       " u'https://favqs.com/api/quotes/?filter=space',\n",
       " u'https://favqs.com/api/quotes/?filter=galaxy',\n",
       " u'https://favqs.com/api/quotes/?filter=infinity',\n",
       " u'https://favqs.com/api/quotes/?filter=planet',\n",
       " u'https://favqs.com/api/quotes/?filter=nebula',\n",
       " u'https://favqs.com/api/quotes/?filter=exploration',\n",
       " u'https://favqs.com/api/quotes/?filter=science',\n",
       " u'https://favqs.com/api/quotes/?filter=fantasy',\n",
       " u'https://favqs.com/api/quotes/?filter=astrology',\n",
       " u'https://favqs.com/api/quotes/?filter=surreal',\n",
       " u'https://favqs.com/api/quotes/?filter=plasma',\n",
       " u'https://favqs.com/api/quotes/?filter=cosmos',\n",
       " u'https://favqs.com/api/quotes/?filter=solar system',\n",
       " u'https://favqs.com/api/quotes/?filter=stellar',\n",
       " u'https://favqs.com/api/quotes/?filter=imagery',\n",
       " u'https://favqs.com/api/quotes/?filter=solar',\n",
       " u'https://favqs.com/api/quotes/?filter=orbit']"
      ]
     },
     "execution_count": 76,
     "metadata": {},
     "output_type": "execute_result"
    }
   ],
   "source": [
    "urls"
   ]
  },
  {
   "cell_type": "code",
   "execution_count": 77,
   "metadata": {
    "collapsed": true
   },
   "outputs": [],
   "source": [
    "headers = {'Authorization' : 'Token token=\"b09904a4d885299ee386f5cbbf795c56\"'}\n",
    "req = requests.get(\"https://favqs.com/api/quotes/?filter=mountain\", headers = headers)\n",
    "def get_quotes(urls):\n",
    "    quotes = pd.DataFrame({'Quote': [], 'Author': []})\n",
    "    for url in urls:\n",
    "        req = requests.get(url, headers = headers).json()\n",
    "        time.sleep(0.5)\n",
    "        print \"Processing: \" + url\n",
    "        for item in req['quotes']:\n",
    "            if item['body'] != 'No quotes found':\n",
    "                quotes = quotes.append(pd.DataFrame({'Quote': [item['body']], 'Author': [item['author']]}))\n",
    "    return quotes.reset_index(drop=True)"
   ]
  },
  {
   "cell_type": "code",
   "execution_count": 106,
   "metadata": {
    "collapsed": false
   },
   "outputs": [
    {
     "name": "stdout",
     "output_type": "stream",
     "text": [
      "Processing: https://favqs.com/api/quotes/?filter=astronomy\n",
      "Processing: https://favqs.com/api/quotes/?filter=moon\n",
      "Processing: https://favqs.com/api/quotes/?filter=ball-shaped\n",
      "Processing: https://favqs.com/api/quotes/?filter=space\n",
      "Processing: https://favqs.com/api/quotes/?filter=galaxy\n",
      "Processing: https://favqs.com/api/quotes/?filter=infinity\n",
      "Processing: https://favqs.com/api/quotes/?filter=planet\n",
      "Processing: https://favqs.com/api/quotes/?filter=nebula\n",
      "Processing: https://favqs.com/api/quotes/?filter=exploration\n",
      "Processing: https://favqs.com/api/quotes/?filter=science\n",
      "Processing: https://favqs.com/api/quotes/?filter=fantasy\n",
      "Processing: https://favqs.com/api/quotes/?filter=astrology\n",
      "Processing: https://favqs.com/api/quotes/?filter=surreal\n",
      "Processing: https://favqs.com/api/quotes/?filter=plasma\n",
      "Processing: https://favqs.com/api/quotes/?filter=cosmos\n",
      "Processing: https://favqs.com/api/quotes/?filter=solar system\n",
      "Processing: https://favqs.com/api/quotes/?filter=stellar\n",
      "Processing: https://favqs.com/api/quotes/?filter=imagery\n",
      "Processing: https://favqs.com/api/quotes/?filter=solar\n",
      "Processing: https://favqs.com/api/quotes/?filter=orbit\n",
      "Processing: https://favqs.com/api/quotes/?filter=astronomy\n",
      "Processing: https://favqs.com/api/quotes/?filter=moon\n",
      "Processing: https://favqs.com/api/quotes/?filter=ball-shaped\n",
      "Processing: https://favqs.com/api/quotes/?filter=space\n",
      "Processing: https://favqs.com/api/quotes/?filter=galaxy\n",
      "Processing: https://favqs.com/api/quotes/?filter=infinity\n",
      "Processing: https://favqs.com/api/quotes/?filter=planet\n",
      "Processing: https://favqs.com/api/quotes/?filter=nebula\n",
      "Processing: https://favqs.com/api/quotes/?filter=exploration\n",
      "Processing: https://favqs.com/api/quotes/?filter=science\n",
      "Processing: https://favqs.com/api/quotes/?filter=fantasy\n",
      "Processing: https://favqs.com/api/quotes/?filter=astrology\n",
      "Processing: https://favqs.com/api/quotes/?filter=surreal\n",
      "Processing: https://favqs.com/api/quotes/?filter=plasma\n",
      "Processing: https://favqs.com/api/quotes/?filter=cosmos\n",
      "Processing: https://favqs.com/api/quotes/?filter=solar system\n",
      "Processing: https://favqs.com/api/quotes/?filter=stellar\n",
      "Processing: https://favqs.com/api/quotes/?filter=imagery\n",
      "Processing: https://favqs.com/api/quotes/?filter=solar\n",
      "Processing: https://favqs.com/api/quotes/?filter=orbit\n"
     ]
    }
   ],
   "source": [
    "quotes = pd.DataFrame({'Quote': get_quotes(urls)['Quote'], 'Author': get_quotes(urls)['Author']})"
   ]
  },
  {
   "cell_type": "code",
   "execution_count": 107,
   "metadata": {
    "collapsed": false
   },
   "outputs": [
    {
     "data": {
      "text/html": [
       "<div>\n",
       "<table border=\"1\" class=\"dataframe\">\n",
       "  <thead>\n",
       "    <tr style=\"text-align: right;\">\n",
       "      <th></th>\n",
       "      <th>Author</th>\n",
       "      <th>Quote</th>\n",
       "    </tr>\n",
       "  </thead>\n",
       "  <tbody>\n",
       "    <tr>\n",
       "      <th>225</th>\n",
       "      <td>Mitt Romney</td>\n",
       "      <td>Even though I love solar and love wind, like m...</td>\n",
       "    </tr>\n",
       "    <tr>\n",
       "      <th>226</th>\n",
       "      <td>Barack Obama</td>\n",
       "      <td>Here at this site, Solyndra expects to make en...</td>\n",
       "    </tr>\n",
       "    <tr>\n",
       "      <th>227</th>\n",
       "      <td>Greg Bear</td>\n",
       "      <td>Of all the planets apart from Earth in our sol...</td>\n",
       "    </tr>\n",
       "    <tr>\n",
       "      <th>228</th>\n",
       "      <td>Joseph Addison</td>\n",
       "      <td>No oppression is so heavy or lasting as that w...</td>\n",
       "    </tr>\n",
       "    <tr>\n",
       "      <th>229</th>\n",
       "      <td>Yahoo Serious</td>\n",
       "      <td>Then if your movie clicks with real audiences,...</td>\n",
       "    </tr>\n",
       "  </tbody>\n",
       "</table>\n",
       "</div>"
      ],
      "text/plain": [
       "             Author                                              Quote\n",
       "225     Mitt Romney  Even though I love solar and love wind, like m...\n",
       "226    Barack Obama  Here at this site, Solyndra expects to make en...\n",
       "227       Greg Bear  Of all the planets apart from Earth in our sol...\n",
       "228  Joseph Addison  No oppression is so heavy or lasting as that w...\n",
       "229   Yahoo Serious  Then if your movie clicks with real audiences,..."
      ]
     },
     "execution_count": 107,
     "metadata": {},
     "output_type": "execute_result"
    }
   ],
   "source": [
    "# type(quotes)\n",
    "quotes.tail()"
   ]
  },
  {
   "cell_type": "code",
   "execution_count": 108,
   "metadata": {
    "collapsed": false
   },
   "outputs": [
    {
     "data": {
      "text/plain": [
       "unicode"
      ]
     },
     "execution_count": 108,
     "metadata": {},
     "output_type": "execute_result"
    }
   ],
   "source": [
    "type(tagPhrase)"
   ]
  },
  {
   "cell_type": "code",
   "execution_count": 109,
   "metadata": {
    "collapsed": false
   },
   "outputs": [],
   "source": [
    "phrases = quotes.append(pd.DataFrame({'Quote' : [tagPhrase], 'Author': ['No One']})).reset_index(drop=True)"
   ]
  },
  {
   "cell_type": "code",
   "execution_count": 110,
   "metadata": {
    "collapsed": false
   },
   "outputs": [
    {
     "data": {
      "text/html": [
       "<div>\n",
       "<table border=\"1\" class=\"dataframe\">\n",
       "  <thead>\n",
       "    <tr style=\"text-align: right;\">\n",
       "      <th></th>\n",
       "      <th>Author</th>\n",
       "      <th>Quote</th>\n",
       "    </tr>\n",
       "  </thead>\n",
       "  <tbody>\n",
       "    <tr>\n",
       "      <th>226</th>\n",
       "      <td>Barack Obama</td>\n",
       "      <td>Here at this site, Solyndra expects to make en...</td>\n",
       "    </tr>\n",
       "    <tr>\n",
       "      <th>227</th>\n",
       "      <td>Greg Bear</td>\n",
       "      <td>Of all the planets apart from Earth in our sol...</td>\n",
       "    </tr>\n",
       "    <tr>\n",
       "      <th>228</th>\n",
       "      <td>Joseph Addison</td>\n",
       "      <td>No oppression is so heavy or lasting as that w...</td>\n",
       "    </tr>\n",
       "    <tr>\n",
       "      <th>229</th>\n",
       "      <td>Yahoo Serious</td>\n",
       "      <td>Then if your movie clicks with real audiences,...</td>\n",
       "    </tr>\n",
       "    <tr>\n",
       "      <th>230</th>\n",
       "      <td>No One</td>\n",
       "      <td>astronomy moon ball-shaped space galaxy infini...</td>\n",
       "    </tr>\n",
       "  </tbody>\n",
       "</table>\n",
       "</div>"
      ],
      "text/plain": [
       "             Author                                              Quote\n",
       "226    Barack Obama  Here at this site, Solyndra expects to make en...\n",
       "227       Greg Bear  Of all the planets apart from Earth in our sol...\n",
       "228  Joseph Addison  No oppression is so heavy or lasting as that w...\n",
       "229   Yahoo Serious  Then if your movie clicks with real audiences,...\n",
       "230          No One  astronomy moon ball-shaped space galaxy infini..."
      ]
     },
     "execution_count": 110,
     "metadata": {},
     "output_type": "execute_result"
    }
   ],
   "source": [
    "phrases.tail()"
   ]
  },
  {
   "cell_type": "code",
   "execution_count": 111,
   "metadata": {
    "collapsed": true
   },
   "outputs": [],
   "source": [
    "from sklearn.feature_extraction.text import TfidfVectorizer, CountVectorizer\n",
    "from sklearn.metrics.pairwise import linear_kernel"
   ]
  },
  {
   "cell_type": "code",
   "execution_count": 112,
   "metadata": {
    "collapsed": true
   },
   "outputs": [],
   "source": [
    "def similarity_matrix(dataframe):\n",
    "    tfidf = TfidfVectorizer(analyzer = 'word', ngram_range = (1,3), min_df = 0, stop_words = 'english')\n",
    "    tfidf_matrix = tfidf.fit_transform(dataframe)\n",
    "    cosine_similarities = linear_kernel(tfidf_matrix, tfidf_matrix)\n",
    "    return pd.DataFrame(cosine_similarities)"
   ]
  },
  {
   "cell_type": "code",
   "execution_count": 113,
   "metadata": {
    "collapsed": true
   },
   "outputs": [],
   "source": [
    "matrix = similarity_matrix(phrases['Quote'])"
   ]
  },
  {
   "cell_type": "code",
   "execution_count": 114,
   "metadata": {
    "collapsed": true
   },
   "outputs": [],
   "source": [
    "def best_similarities(dataframe):\n",
    "    return dataframe[len(dataframe)-1].sort_values(ascending=False)[1:7].reset_index()"
   ]
  },
  {
   "cell_type": "code",
   "execution_count": 115,
   "metadata": {
    "collapsed": false
   },
   "outputs": [
    {
     "data": {
      "text/html": [
       "<div>\n",
       "<table border=\"1\" class=\"dataframe\">\n",
       "  <thead>\n",
       "    <tr style=\"text-align: right;\">\n",
       "      <th></th>\n",
       "      <th>index</th>\n",
       "      <th>230</th>\n",
       "    </tr>\n",
       "  </thead>\n",
       "  <tbody>\n",
       "    <tr>\n",
       "      <th>0</th>\n",
       "      <td>191</td>\n",
       "      <td>0.100308</td>\n",
       "    </tr>\n",
       "    <tr>\n",
       "      <th>1</th>\n",
       "      <td>10</td>\n",
       "      <td>0.041405</td>\n",
       "    </tr>\n",
       "    <tr>\n",
       "      <th>2</th>\n",
       "      <td>172</td>\n",
       "      <td>0.041405</td>\n",
       "    </tr>\n",
       "    <tr>\n",
       "      <th>3</th>\n",
       "      <td>7</td>\n",
       "      <td>0.030362</td>\n",
       "    </tr>\n",
       "    <tr>\n",
       "      <th>4</th>\n",
       "      <td>214</td>\n",
       "      <td>0.030346</td>\n",
       "    </tr>\n",
       "    <tr>\n",
       "      <th>5</th>\n",
       "      <td>6</td>\n",
       "      <td>0.030306</td>\n",
       "    </tr>\n",
       "  </tbody>\n",
       "</table>\n",
       "</div>"
      ],
      "text/plain": [
       "   index       230\n",
       "0    191  0.100308\n",
       "1     10  0.041405\n",
       "2    172  0.041405\n",
       "3      7  0.030362\n",
       "4    214  0.030346\n",
       "5      6  0.030306"
      ]
     },
     "execution_count": 115,
     "metadata": {},
     "output_type": "execute_result"
    }
   ],
   "source": [
    "best_similarities(matrix)"
   ]
  },
  {
   "cell_type": "code",
   "execution_count": 117,
   "metadata": {
    "collapsed": false
   },
   "outputs": [
    {
     "data": {
      "text/plain": [
       "u'The cosmos is all that is, or ever was, or ever will be. - Carl Sagan'"
      ]
     },
     "execution_count": 117,
     "metadata": {},
     "output_type": "execute_result"
    }
   ],
   "source": [
    "phrases['Quote'][191] + ' - ' + phrases['Author'][191]"
   ]
  },
  {
   "cell_type": "code",
   "execution_count": 118,
   "metadata": {
    "collapsed": true
   },
   "outputs": [],
   "source": [
    "def candidate_indexes(dataframe):\n",
    "\treturn dataframe['index']\n",
    "\n",
    "def candidate_captions(dataframe, indexes):\n",
    "\tcaptions = []\n",
    "\tfor index in indexes:\n",
    "\t\tcaptions.append(dataframe[index])\n",
    "\treturn captions"
   ]
  },
  {
   "cell_type": "code",
   "execution_count": 121,
   "metadata": {
    "collapsed": false
   },
   "outputs": [
    {
     "data": {
      "text/plain": [
       "[u'The cosmos is all that is, or ever was, or ever will be. - Carl Sagan',\n",
       " u'Before a war military science seems a real science, like astronomy but after a war it seems more like astrology. - Rebecca West',\n",
       " u'Before a war military science seems a real science, like astronomy but after a war it seems more like astrology. - Rebecca West',\n",
       " u'So fantasy was fine early on, and when I discovered science fiction, I was very happy with it, because my first interest in science fiction came with an interest in astronomy. - Octavia Butler',\n",
       " u\"It's really kind of cool to have solar panels on your roof. - Bill Gates\",\n",
       " u\"I love biomedical science, I love astronomy, and you can't really do much with those in a fantasy setting. - Elizabeth Moon\"]"
      ]
     },
     "execution_count": 121,
     "metadata": {},
     "output_type": "execute_result"
    }
   ],
   "source": [
    "candidate_captions(phrases['Quote'] + ' - ' + phrases['Author'], candidate_indexes(best_similarities(matrix)))"
   ]
  },
  {
   "cell_type": "code",
   "execution_count": 129,
   "metadata": {
    "collapsed": false
   },
   "outputs": [],
   "source": [
    "alltags = []\n",
    "for tag in tags[:7]:\n",
    "    alltags.append(\"#\"+tag)"
   ]
  },
  {
   "cell_type": "code",
   "execution_count": 130,
   "metadata": {
    "collapsed": false
   },
   "outputs": [
    {
     "data": {
      "text/plain": [
       "u'#astronomy #moon #ball-shaped #space #galaxy #infinity #planet'"
      ]
     },
     "execution_count": 130,
     "metadata": {},
     "output_type": "execute_result"
    }
   ],
   "source": [
    "\" \".join(alltags)"
   ]
  },
  {
   "cell_type": "code",
   "execution_count": null,
   "metadata": {
    "collapsed": true
   },
   "outputs": [],
   "source": []
  }
 ],
 "metadata": {
  "kernelspec": {
   "display_name": "Python 2",
   "language": "python",
   "name": "python2"
  },
  "language_info": {
   "codemirror_mode": {
    "name": "ipython",
    "version": 2
   },
   "file_extension": ".py",
   "mimetype": "text/x-python",
   "name": "python",
   "nbconvert_exporter": "python",
   "pygments_lexer": "ipython2",
   "version": "2.7.12"
  }
 },
 "nbformat": 4,
 "nbformat_minor": 0
}
